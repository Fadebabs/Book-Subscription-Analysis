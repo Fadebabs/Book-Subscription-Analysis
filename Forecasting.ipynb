{
 "cells": [
  {
   "cell_type": "code",
   "execution_count": 40,
   "id": "30a2be57",
   "metadata": {},
   "outputs": [],
   "source": [
    "import pandas as pd\n",
    "from sklearn.model_selection import train_test_split\n",
    "from sklearn.metrics import mean_squared_error, mean_absolute_error\n",
    "from xgboost import XGBRegressor"
   ]
  },
  {
   "cell_type": "code",
   "execution_count": 41,
   "id": "8cb4025c",
   "metadata": {},
   "outputs": [],
   "source": [
    "\n",
    "# Load the dataset into a Pandas DataFrame\n",
    "df = pd.read_csv('actions2load.csv')"
   ]
  },
  {
   "cell_type": "code",
   "execution_count": 42,
   "id": "f69db02a",
   "metadata": {},
   "outputs": [],
   "source": [
    "\n",
    "\n",
    "# Preprocess the data\n",
    "df = df.drop(columns=['additional_data']) # Drop irrelevant column\n",
    "df['event_time'] = pd.to_datetime(df['event_time']) # Convert event_time to datetime object\n",
    "df = df.sort_values(by='event_time') # Sort the dataframe by event_time\n",
    "df['time_since_last_event'] = df.groupby('account_id')['event_time'].diff().dt.total_seconds() # Calculate time since last event for each account_id\n",
    "df = df.dropna() # Drop any rows with missing values\n"
   ]
  },
  {
   "cell_type": "code",
   "execution_count": 43,
   "id": "7e697ada",
   "metadata": {},
   "outputs": [],
   "source": [
    "\n",
    "# Split the data into training and testing sets\n",
    "X_train, X_test, y_train, y_test = train_test_split(df.drop(columns=['event_time']), df['event_time'], test_size=0.2, random_state=42)\n",
    "\n",
    "# Define the feature matrix X and target variable y for both the training and testing sets\n",
    "X_train = X_train.drop(columns=['account_id', 'event_type', 'product_id'])\n",
    "X_test = X_test.drop(columns=['account_id', 'event_type', 'product_id'])"
   ]
  },
  {
   "cell_type": "code",
   "execution_count": 44,
   "id": "42a8c6c1",
   "metadata": {},
   "outputs": [
    {
     "data": {
      "text/plain": [
       "XGBRegressor(base_score=0.5, booster='gbtree', colsample_bylevel=1,\n",
       "             colsample_bynode=1, colsample_bytree=1, gamma=0, gpu_id=-1,\n",
       "             importance_type='gain', interaction_constraints='',\n",
       "             learning_rate=0.1, max_delta_step=0, max_depth=3,\n",
       "             min_child_weight=1, missing=nan, monotone_constraints='()',\n",
       "             n_estimators=100, n_jobs=0, num_parallel_tree=1, random_state=0,\n",
       "             reg_alpha=0, reg_lambda=1, scale_pos_weight=1, subsample=1,\n",
       "             tree_method='exact', validate_parameters=1, verbosity=None)"
      ]
     },
     "execution_count": 44,
     "metadata": {},
     "output_type": "execute_result"
    }
   ],
   "source": [
    "\n",
    "# Create an instance of the XGBRegressor class\n",
    "model = XGBRegressor(n_estimators=100, learning_rate=0.1, max_depth=3)\n",
    "\n",
    "y_train = y_train.apply(lambda x: x.timestamp())\n",
    "\n",
    "# Fit the model to the training data\n",
    "model.fit(X_train, y_train)"
   ]
  },
  {
   "cell_type": "code",
   "execution_count": 45,
   "id": "8dabdd4e",
   "metadata": {},
   "outputs": [
    {
     "name": "stdout",
     "output_type": "stream",
     "text": [
      "MAE: 3155653.5510186655\n"
     ]
    }
   ],
   "source": [
    "# Use the model to make predictions for the testing data\n",
    "y_pred = model.predict(X_test)\n",
    "\n",
    "y_test = y_test.apply(lambda x: x.timestamp())\n",
    "\n",
    "\n",
    "# Evaluate the performance of the model using mean absolute error (MAE)\n",
    "mae = mean_absolute_error(y_test, y_pred)\n",
    "print('MAE:', mae)\n",
    "\n"
   ]
  },
  {
   "cell_type": "raw",
   "id": "8455148d",
   "metadata": {},
   "source": [
    "import math\n",
    "\n",
    "# Assuming y_test and y_pred are already defined\n",
    "rmse = mean_squared_error(y_test, y_pred)\n",
    "rmse = math.sqrt(rmse)\n",
    "\n",
    "print('RMSE:', rmse)"
   ]
  },
  {
   "cell_type": "code",
   "execution_count": 46,
   "id": "d33953a2",
   "metadata": {},
   "outputs": [
    {
     "data": {
      "text/plain": [
       "Timestamp('2020-06-04 04:20:13.271000')"
      ]
     },
     "execution_count": 46,
     "metadata": {},
     "output_type": "execute_result"
    }
   ],
   "source": [
    "df[\"event_time\"].max()"
   ]
  },
  {
   "cell_type": "code",
   "execution_count": 47,
   "id": "8bfaaf26",
   "metadata": {},
   "outputs": [],
   "source": [
    "# Use the trained model to make predictions for the next event time for a given account_id\n",
    "account_id = '3eff5d4b55889abb0a8b08d2136f1b63' # Replace with the desired account_id\n",
    "last_event_time = df[df['account_id'] == account_id]['event_time'].max()# Get the time of the last event for the given account_id"
   ]
  },
  {
   "cell_type": "code",
   "execution_count": 48,
   "id": "7b459308",
   "metadata": {},
   "outputs": [
    {
     "data": {
      "text/plain": [
       "Timestamp('2020-06-04 04:20:13.271000')"
      ]
     },
     "execution_count": 48,
     "metadata": {},
     "output_type": "execute_result"
    }
   ],
   "source": [
    "last_event_time"
   ]
  },
  {
   "cell_type": "code",
   "execution_count": 49,
   "id": "4ce28649",
   "metadata": {},
   "outputs": [
    {
     "data": {
      "text/plain": [
       "array([1.587364e+09], dtype=float32)"
      ]
     },
     "execution_count": 49,
     "metadata": {},
     "output_type": "execute_result"
    }
   ],
   "source": [
    "next_time_since_last_event = model.predict(pd.DataFrame({'time_since_last_event': [last_time_since_last_event]})) # Predict the time since the next event\n",
    "next_time_since_last_event"
   ]
  },
  {
   "cell_type": "code",
   "execution_count": 50,
   "id": "a8255f34",
   "metadata": {},
   "outputs": [
    {
     "data": {
      "text/plain": [
       "Timedelta('18372 days 06:26:08')"
      ]
     },
     "execution_count": 50,
     "metadata": {},
     "output_type": "execute_result"
    }
   ],
   "source": [
    "pd.Timedelta(seconds=next_time_since_last_event[0])"
   ]
  },
  {
   "cell_type": "code",
   "execution_count": 51,
   "id": "b05e832c",
   "metadata": {},
   "outputs": [],
   "source": [
    "next_event_time = last_event_time + pd.Timedelta(seconds=next_time_since_last_event[0]) # Calculate the time of the next event\n",
    "\n"
   ]
  },
  {
   "cell_type": "code",
   "execution_count": 52,
   "id": "3f1d56da",
   "metadata": {},
   "outputs": [
    {
     "name": "stdout",
     "output_type": "stream",
     "text": [
      "Next event time for account 3eff5d4b55889abb0a8b08d2136f1b63 : 2070-09-22 10:46:21.271000\n"
     ]
    }
   ],
   "source": [
    "print('Next event time for account', account_id, ':', next_event_time)"
   ]
  },
  {
   "cell_type": "code",
   "execution_count": null,
   "id": "56287a3c",
   "metadata": {},
   "outputs": [],
   "source": []
  }
 ],
 "metadata": {
  "kernelspec": {
   "display_name": "Python 3",
   "language": "python",
   "name": "python3"
  },
  "language_info": {
   "codemirror_mode": {
    "name": "ipython",
    "version": 3
   },
   "file_extension": ".py",
   "mimetype": "text/x-python",
   "name": "python",
   "nbconvert_exporter": "python",
   "pygments_lexer": "ipython3",
   "version": "3.8.3"
  }
 },
 "nbformat": 4,
 "nbformat_minor": 5
}
